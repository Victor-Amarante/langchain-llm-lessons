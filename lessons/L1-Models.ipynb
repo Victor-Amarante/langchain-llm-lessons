{
 "cells": [
  {
   "cell_type": "markdown",
   "metadata": {},
   "source": [
    "#### LLM - OpenAI"
   ]
  },
  {
   "cell_type": "code",
   "execution_count": 1,
   "metadata": {},
   "outputs": [],
   "source": [
    "from langchain_openai import OpenAI\n",
    "\n",
    "llm = OpenAI(temperature=0.9)"
   ]
  },
  {
   "cell_type": "code",
   "execution_count": 2,
   "metadata": {},
   "outputs": [
    {
     "data": {
      "text/plain": [
       "'\\n\\nEra uma vez um jovem chamado Lucas, que sempre foi fascinado pela tecnologia e pelo poder que ela tinha de transformar o mundo. Desde pequeno, ele adorava desmontar brinquedos para entender como funcionavam e passava horas na frente do computador jogando e explorando a internet.\\n\\nCom o passar dos anos, Lucas se interessou cada vez mais por programação e decidiu que queria se tornar um Engenheiro de Software. Ele começou a estudar por conta própria, assistindo a tutoriais e fazendo cursos online. Foi assim que ele descobriu a Inteligência Artificial e se apaixonou por essa área.\\n\\nLucas percebeu que a Inteligência Artificial era o futuro e que poderia criar soluções incríveis para diversos problemas através dela. Ele se dedicou ainda mais aos estudos e conseguiu uma bolsa de estudos em uma universidade renomada, onde se formou em Engenharia da Computação com ênfase em Inteligência Artificial.\\n\\nDurante a graduação, Lucas teve a oportunidade de participar de projetos de pesquisa e desenvolvimento em Inteligência Artificial'"
      ]
     },
     "execution_count": 2,
     "metadata": {},
     "output_type": "execute_result"
    }
   ],
   "source": [
    "pergunta = 'Conte uma história sobre a trajetória de aprender a programar e se tornar um Engenheiro de Software com especialidade em Inteligência Artificial.'\n",
    "\n",
    "llm.invoke(pergunta)"
   ]
  },
  {
   "cell_type": "markdown",
   "metadata": {},
   "source": [
    "#### Stream nas respostas"
   ]
  },
  {
   "cell_type": "code",
   "execution_count": 5,
   "metadata": {},
   "outputs": [
    {
     "name": "stdout",
     "output_type": "stream",
     "text": [
      "\n",
      "\n",
      "Era uma vez um jovem chamado Lucas que sempre foi fascinado por tecnologia e computadores desde criança. Ele passava horas brincando com jogos de computador e desmontando aparelhos eletrônicos para entender como funcionavam. Com o passar dos anos, sua paixão pela tecnologia só crescia e ele decidiu que queria trabalhar com algo relacionado a isso no futuro.\n",
      "\n",
      "Quando chegou o momento de escolher uma carreira, Lucas optou por estudar Engenharia da Computação. Durante a faculdade, ele teve contato com diversas áreas da computação, mas foi na programação que ele encontrou sua verdadeira paixão. Ele ficava fascinado com a ideia de criar algo do zero, de dar vida a um código e ver suas ideias se tornando realidade em forma de software.\n",
      "\n",
      "Lucas se dedicou muito aos estudos e se destacou em suas disciplinas de programação. Ele também participava de grupos de estudo e projetos extracurriculares relacionados à área. Foi nesse momento que ele teve seu primeiro contato com Inteligência Artificial (IA) e fic"
     ]
    }
   ],
   "source": [
    "# Quando queremos que a resposta apareça em tempo real, podemos usar o método `stream` do `LLM`.\n",
    "# Este método retorna uma iteração que emite respostas em tempo real.\n",
    "\n",
    "for trecho in llm.stream(pergunta):\n",
    "    print(trecho, end=\"\", flush=True)"
   ]
  },
  {
   "cell_type": "markdown",
   "metadata": {},
   "source": [
    "#### Testando sob outro contexto de forma completa"
   ]
  },
  {
   "cell_type": "code",
   "execution_count": 8,
   "metadata": {},
   "outputs": [
    {
     "name": "stdout",
     "output_type": "stream",
     "text": [
      "\n",
      "\n",
      "A Revolução Industrial foi um período de intensas mudanças econômicas, sociais e tecnológicas que ocorreu na Europa entre os séculos XVIII e XIX. Foi um momento de transição da produção manual para a produção em massa, impulsionado pelo desenvolvimento de novas tecnologias e máquinas.\n",
      "\n",
      "Antes da Revolução Industrial, a produção era realizada de forma artesanal, em pequena escala e com uso de ferramentas simples. Com a invenção da máquina a vapor, foi possível aumentar a produção de forma exponencial, reduzindo o tempo e o custo de produção. Além disso, a criação de novas máquinas e equipamentos, como a máquina de tecelagem e a máquina a vapor, também contribuíram para a aceleração da produção.\n",
      "\n",
      "Essas mudanças tecnológicas permitiram que as empresas aumentassem sua produção e expandissem seus mercados, gerando mais lucros. Com isso, surgiram novas formas de organização do trabalho, como a divisão de tarefas e a especialização de funções, o"
     ]
    }
   ],
   "source": [
    "# Aplicando novamente o modelo de linguagem do LangChain para ter uma pergunta sobre a Revolução Industrial\n",
    "\n",
    "from langchain_openai import OpenAI\n",
    "\n",
    "llm = OpenAI(temperature=0.5)\n",
    "\n",
    "pergunta = 'Conte sobre a Revolução Industrial e como a tecnologia mudou a forma como as empresas funcionam.'\n",
    "for trecho in llm.stream(pergunta):\n",
    "    print(trecho, end=\"\", flush=True)"
   ]
  },
  {
   "cell_type": "markdown",
   "metadata": {},
   "source": [
    "#### Chamadas Simultâneas"
   ]
  },
  {
   "cell_type": "code",
   "execution_count": 16,
   "metadata": {},
   "outputs": [
    {
     "name": "stdout",
     "output_type": "stream",
     "text": [
      "---- O que é o Sol?\n",
      "\n",
      "\n",
      "O Sol é uma estrela de tamanho médio localizada no centro do nosso sistema solar. Ele é composto principalmente de hidrogênio e hélio e é responsável por fornecer a luz e o calor necessários para a vida na Terra. Além disso, o Sol é uma fonte de energia para a produção de alimentos, geração de eletricidade e é um importante objeto de estudo para cientistas e astrônomos.----\n",
      "---- O que é a Terra?\n",
      "\n",
      "\n",
      "A Terra é o terceiro planeta do Sistema Solar, localizado a uma distância média de 149,6 milhões de quilômetros do Sol. É o único planeta conhecido até o momento capaz de abrigar vida em sua superfície, devido às condições favoráveis de temperatura, presença de água líquida e atmosfera adequada. É um planeta rochoso, com cerca de 4,5 bilhões de anos de idade, e possui uma superfície dividida em continentes e oceanos. Além disso, a Terra é o lar de uma grande diversidade de seres vivos, incluindo humanos, plantas e animais. ----\n",
      "---- Como funciona o sistema solar?\n",
      "\n",
      "\n",
      "O sistema solar é composto por uma estrela central, o Sol, e todos os corpos celestes que orbitam ao seu redor. Esses corpos incluem planetas, planetas anões, asteroides, cometas e outros objetos menores.\n",
      "\n",
      "O Sol é a estrela mais próxima da Terra e é responsável por fornecer a maior parte da energia para o nosso planeta. Ele possui uma massa de cerca de 330.000 vezes a da Terra e é composto principalmente por hidrogênio e hélio.\n",
      "\n",
      "Os planetas do sistema solar orbitam ao redor do Sol em órbitas elípticas. Existem oito planetas no sistema solar: Mercúrio, Vênus, Terra, Marte, Júpiter, Saturno, Urano e Netuno. Os planetas variam em tamanho, composição e características. Alguns são rochosos e outros são gasosos.\n",
      "\n",
      "Além dos planetas, o sistema solar também inclui planetas anões, que são corpos celestes menores que não conseguiram limpar sua órbita de outros objetos. O mais famoso é Plutão, que foi reclassificado----\n"
     ]
    }
   ],
   "source": [
    "perguntas = [\n",
    "    'O que é o Sol?',\n",
    "    'O que é a Terra?',\n",
    "    'Como funciona o sistema solar?',\n",
    "]\n",
    "\n",
    "for pergunta in perguntas:\n",
    "    print('----', pergunta) \n",
    "    resposta = llm.stream(pergunta)\n",
    "    for trecho in resposta:\n",
    "        print(trecho, end='', flush=True)\n",
    "    print('----')"
   ]
  },
  {
   "cell_type": "markdown",
   "metadata": {},
   "source": [
    "#### ChatModels\n",
    "\n",
    "Os ChatModels é um modelo de linguagem que utiliza mensagens de chat como entradas e retorna mensagens de chat como saídas. Eles são projetados para interagir com usuários em conversas."
   ]
  },
  {
   "cell_type": "code",
   "execution_count": 17,
   "metadata": {},
   "outputs": [],
   "source": [
    "from langchain_openai import ChatOpenAI\n",
    "\n",
    "chat = ChatOpenAI(model=\"gpt-3.5-turbo-0125\", temperature=0.5)"
   ]
  },
  {
   "cell_type": "code",
   "execution_count": 31,
   "metadata": {},
   "outputs": [
    {
     "data": {
      "text/plain": [
       "AIMessage(content='Python é uma linguagem de programação de alto nível conhecida por sua simplicidade e legibilidade de código. Foi criada por Guido van Rossum e lançada pela primeira vez em 1991. Python é uma linguagem versátil e pode ser usada em uma variedade de aplicações, como desenvolvimento web, análise de dados, automação de tarefas, inteligência artificial e muito mais.\\n\\nUma das principais vantagens do Python é sua sintaxe clara e concisa, o que facilita a escrita e a leitura de código. Além disso, a linguagem possui uma grande comunidade de desenvolvedores ativos que contribuem com bibliotecas e frameworks que tornam o desenvolvimento de software mais eficiente e produtivo.\\n\\nPython é uma das linguagens de programação mais populares atualmente e é amplamente utilizada em empresas de tecnologia, instituições acadêmicas e em projetos de código aberto. Sua popularidade se deve em parte à sua facilidade de aprendizado e à sua capacidade de lidar com uma ampla gama de problemas de programação.', response_metadata={'token_usage': {'completion_tokens': 244, 'prompt_tokens': 32, 'total_tokens': 276}, 'model_name': 'gpt-3.5-turbo-0125', 'system_fingerprint': None, 'finish_reason': 'stop', 'logprobs': None}, id='run-369091cb-2c6f-4040-9905-df41e8ed181c-0')"
      ]
     },
     "execution_count": 31,
     "metadata": {},
     "output_type": "execute_result"
    }
   ],
   "source": [
    "from langchain_core.messages import HumanMessage, SystemMessage\n",
    "\n",
    "mensagens = [\n",
    "    SystemMessage(content=\"Você é um assistente que conta histórias sobre tecnologia.\"),\n",
    "    HumanMessage(content=\"O que você sabe sobre o Python?\"),\n",
    "]\n",
    "\n",
    "chat.invoke(mensagens)"
   ]
  },
  {
   "cell_type": "code",
   "execution_count": 32,
   "metadata": {},
   "outputs": [
    {
     "name": "stdout",
     "output_type": "stream",
     "text": [
      "O Python é uma linguagem de programação de alto nível, interpretada e de propósito geral. Foi criada por Guido van Rossum e lançada pela primeira vez em 1991. Python é conhecido por sua sintaxe simples e legibilidade, o que o torna uma escolha popular entre programadores iniciantes e experientes.\n",
      "\n",
      "Uma das principais características do Python é sua versatilidade, sendo utilizado em uma ampla variedade de aplicações, como desenvolvimento web, análise de dados, inteligência artificial, automação de tarefas, entre outros. Além disso, a comunidade Python é muito ativa, o que resulta em uma grande quantidade de bibliotecas e frameworks disponíveis para facilitar o desenvolvimento de projetos.\n",
      "\n",
      "Em resumo, o Python é uma linguagem poderosa, fácil de aprender e amplamente utilizada em diversas áreas da tecnologia.\n",
      "{'token_usage': {'completion_tokens': 194, 'prompt_tokens': 32, 'total_tokens': 226}, 'model_name': 'gpt-3.5-turbo-0125', 'system_fingerprint': None, 'finish_reason': 'stop', 'logprobs': None}\n"
     ]
    }
   ],
   "source": [
    "# Podemos armazenar a resposta em uma variável\n",
    "\n",
    "resposta = chat.invoke(mensagens)\n",
    "\n",
    "# exibir somente o conteudo da resposta\n",
    "print(resposta.content)\n",
    "# exibir os metadados da resposta\n",
    "print(resposta.response_metadata)"
   ]
  },
  {
   "cell_type": "markdown",
   "metadata": {},
   "source": [
    "Ter noção dos metadatas e de como acessá-los é importante visto que conseguimos monitorar como está o consumo da nossa API."
   ]
  },
  {
   "cell_type": "code",
   "execution_count": 33,
   "metadata": {},
   "outputs": [
    {
     "name": "stdout",
     "output_type": "stream",
     "text": [
      "JavaScript é uma linguagem de programação amplamente utilizada para desenvolver aplicativos web interativos. Originalmente criada para tornar as páginas da web mais dinâmicas, o JavaScript agora é usado em uma variedade de contextos, incluindo desenvolvimento de jogos, aplicativos móveis e até mesmo programação do lado do servidor.\n",
      "\n",
      "Uma das principais características do JavaScript é sua capacidade de manipular elementos HTML, CSS e interagir com o usuário em tempo real. Ele é uma linguagem de script leve e versátil, que é executada no navegador do usuário, tornando-o uma parte essencial do desenvolvimento web moderno.\n",
      "\n",
      "Além disso, o JavaScript é uma linguagem de programação de alto nível, o que significa que é mais fácil de aprender e entender para iniciantes. Com a popularidade do desenvolvimento web, o JavaScript se tornou uma habilidade essencial para programadores e desenvolvedores de software."
     ]
    }
   ],
   "source": [
    "# Na forma de stream\n",
    "\n",
    "from langchain_core.messages import HumanMessage, SystemMessage\n",
    "\n",
    "mensagens = [\n",
    "    SystemMessage(content=\"Você é um assistente que conta histórias sobre tecnologia.\"),\n",
    "    HumanMessage(content=\"O que você sabe sobre o JavaScript?\"),\n",
    "]\n",
    "\n",
    "for trecho in chat.stream(mensagens):\n",
    "    print(trecho.content, end=\"\", flush=True)"
   ]
  }
 ],
 "metadata": {
  "kernelspec": {
   "display_name": ".venv",
   "language": "python",
   "name": "python3"
  },
  "language_info": {
   "codemirror_mode": {
    "name": "ipython",
    "version": 3
   },
   "file_extension": ".py",
   "mimetype": "text/x-python",
   "name": "python",
   "nbconvert_exporter": "python",
   "pygments_lexer": "ipython3",
   "version": "3.11.4"
  }
 },
 "nbformat": 4,
 "nbformat_minor": 2
}
